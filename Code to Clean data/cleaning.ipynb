{
 "cells": [
  {
   "cell_type": "code",
   "execution_count": 1,
   "id": "9eb53c2a-e50b-446b-bcca-9e75e80f9a1a",
   "metadata": {},
   "outputs": [],
   "source": [
    "import pandas as pd\n",
    "import numpy as np"
   ]
  },
  {
   "cell_type": "code",
   "execution_count": 3,
   "id": "6b95e668-c50e-46e6-b6a5-486170e3b954",
   "metadata": {},
   "outputs": [],
   "source": [
    "file_path = r\"C:\\Users\\Bhawesh\\Desktop\\project\\webmd.csv\""
   ]
  },
  {
   "cell_type": "code",
   "execution_count": 5,
   "id": "351b9c2d-9fc4-450f-83b2-a44bbf254bd8",
   "metadata": {},
   "outputs": [],
   "source": [
    "df = pd.read_csv(file_path)"
   ]
  },
  {
   "cell_type": "code",
   "execution_count": 7,
   "id": "7f38b314-24c8-4bbb-93cb-b9367119d58a",
   "metadata": {},
   "outputs": [],
   "source": [
    "df = df.dropna(axis=1, how='all')"
   ]
  },
  {
   "cell_type": "code",
   "execution_count": 9,
   "id": "1a114ef6-9e1c-4a5c-a473-513ba9d8dbfa",
   "metadata": {},
   "outputs": [],
   "source": [
    "df = df.drop_duplicates()"
   ]
  },
  {
   "cell_type": "code",
   "execution_count": 11,
   "id": "ecb8eb18-fae0-48c8-9518-79e700096168",
   "metadata": {},
   "outputs": [],
   "source": [
    "if 'Date' in df.columns:\n",
    "    df['Date'] = pd.to_datetime(df['Date'], errors='coerce')"
   ]
  },
  {
   "cell_type": "code",
   "execution_count": 15,
   "id": "470431d7-3c1d-40c2-b3cc-8f05d094ca97",
   "metadata": {},
   "outputs": [],
   "source": [
    "df.replace(r'^\\s*$', np.nan, regex=True, inplace=True)\n",
    "df = df.dropna()"
   ]
  },
  {
   "cell_type": "code",
   "execution_count": 17,
   "id": "69dc74f0-b64d-4a2d-9745-304560fa8cb0",
   "metadata": {},
   "outputs": [],
   "source": [
    "df = df.loc[:, df.nunique() > 1]"
   ]
  },
  {
   "cell_type": "code",
   "execution_count": 19,
   "id": "55d6bc1c-4714-4912-a530-66377dd4852d",
   "metadata": {},
   "outputs": [],
   "source": [
    "df.columns = df.columns.str.lower().str.replace(\" \", \"_\")"
   ]
  },
  {
   "cell_type": "code",
   "execution_count": 21,
   "id": "6cfab549-0dc5-40dd-bf44-b5b325ed357f",
   "metadata": {},
   "outputs": [],
   "source": [
    "categories = {\n",
    "    'medical_treatments': ['drug', 'effectiveness', 'easeofuse', 'satisfaction'],\n",
    "    'disease_outbreaks': ['condition', 'date'],\n",
    "    'healthcare_technologies': ['drugid'],\n",
    "    'healthcare_policies': ['sides', 'usefulcount']\n",
    "}"
   ]
  },
  {
   "cell_type": "code",
   "execution_count": 23,
   "id": "9d01dfe0-9f48-4b09-8806-4607173a29e4",
   "metadata": {},
   "outputs": [],
   "source": [
    "def categorize_row(row):\n",
    "    for category, columns in categories.items():\n",
    "        if any(pd.notna(row[col]) for col in columns if col in row.index):\n",
    "            return category\n",
    "    return \"other\""
   ]
  },
  {
   "cell_type": "code",
   "execution_count": 25,
   "id": "1a963b51-4d62-4a19-9ddf-e34c5dbf788b",
   "metadata": {},
   "outputs": [],
   "source": [
    "df['category'] = df.apply(categorize_row, axis=1)"
   ]
  },
  {
   "cell_type": "code",
   "execution_count": 27,
   "id": "ff4078b4-3a09-4d3f-b4f3-e7c35776cd31",
   "metadata": {},
   "outputs": [],
   "source": [
    "df.to_csv(\"cleaned_categorized_data.csv\", index=False)"
   ]
  },
  {
   "cell_type": "code",
   "execution_count": 29,
   "id": "b03bb500-4399-45a1-941f-04b1387ddcd1",
   "metadata": {},
   "outputs": [
    {
     "name": "stdout",
     "output_type": "stream",
     "text": [
      "Data cleaning and categorization complete! Saved as 'cleaned_categorized_data.csv'\n"
     ]
    }
   ],
   "source": [
    "print(\"Data cleaning and categorization complete! Saved as 'cleaned_categorized_data.csv'\")\n"
   ]
  }
 ],
 "metadata": {
  "kernelspec": {
   "display_name": "Python [conda env:base] *",
   "language": "python",
   "name": "conda-base-py"
  },
  "language_info": {
   "codemirror_mode": {
    "name": "ipython",
    "version": 3
   },
   "file_extension": ".py",
   "mimetype": "text/x-python",
   "name": "python",
   "nbconvert_exporter": "python",
   "pygments_lexer": "ipython3",
   "version": "3.10.9"
  }
 },
 "nbformat": 4,
 "nbformat_minor": 5
}
